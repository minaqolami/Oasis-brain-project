{
 "cells": [
  {
   "cell_type": "code",
   "execution_count": 2,
   "metadata": {},
   "outputs": [],
   "source": [
    "import pandas as pd\n",
    "import seaborn as sns\n",
    "import matplotlib.pyplot as plt\n",
    "from sklearn.model_selection import train_test_split\n",
    "from sklearn.preprocessing import MinMaxScaler"
   ]
  },
  {
   "cell_type": "code",
   "execution_count": 3,
   "metadata": {},
   "outputs": [],
   "source": [
    "import numpy as np\n",
    "import pandas as pd\n",
    "import tensorflow as tf\n",
    "from sklearn.svm import LinearSVC\n",
    "from sklearn.preprocessing import MinMaxScaler\n",
    "from sklearn.ensemble import RandomForestClassifier\n",
    "from sklearn.linear_model import LogisticRegression\n",
    "from sklearn.model_selection import GroupShuffleSplit\n",
    "from keras.preprocessing.sequence import TimeseriesGenerator\n",
    "from sklearn.metrics import f1_score, classification_report, confusion_matrix, ConfusionMatrixDisplay"
   ]
  },
  {
   "cell_type": "code",
   "execution_count": 4,
   "metadata": {},
   "outputs": [],
   "source": [
    "df=pd.read_csv(\"C:\\\\Users\\\\LENOVO\\\\Desktop\\\\New folder\\\\output.csv\")"
   ]
  },
  {
   "cell_type": "code",
   "execution_count": 36,
   "metadata": {},
   "outputs": [],
   "source": [
    "y=df['Y']\n",
    "x=df.drop(['Y'],axis=1)"
   ]
  },
  {
   "cell_type": "code",
   "execution_count": 37,
   "metadata": {},
   "outputs": [],
   "source": [
    "x_train,x_test,y_train,y_test=train_test_split(x,y,test_size=.25,random_state=13)"
   ]
  },
  {
   "cell_type": "code",
   "execution_count": 38,
   "metadata": {},
   "outputs": [
    {
     "data": {
      "text/html": [
       "<div>\n",
       "<style scoped>\n",
       "    .dataframe tbody tr th:only-of-type {\n",
       "        vertical-align: middle;\n",
       "    }\n",
       "\n",
       "    .dataframe tbody tr th {\n",
       "        vertical-align: top;\n",
       "    }\n",
       "\n",
       "    .dataframe thead th {\n",
       "        text-align: right;\n",
       "    }\n",
       "</style>\n",
       "<table border=\"1\" class=\"dataframe\">\n",
       "  <thead>\n",
       "    <tr style=\"text-align: right;\">\n",
       "      <th></th>\n",
       "      <th>ID</th>\n",
       "      <th>t</th>\n",
       "      <th>X1</th>\n",
       "      <th>X2</th>\n",
       "      <th>X3</th>\n",
       "      <th>X4</th>\n",
       "    </tr>\n",
       "  </thead>\n",
       "  <tbody>\n",
       "    <tr>\n",
       "      <th>277</th>\n",
       "      <td>56.0</td>\n",
       "      <td>1000.0</td>\n",
       "      <td>0.586623</td>\n",
       "      <td>0.0</td>\n",
       "      <td>-0.203394</td>\n",
       "      <td>1.155288</td>\n",
       "    </tr>\n",
       "    <tr>\n",
       "      <th>155</th>\n",
       "      <td>32.0</td>\n",
       "      <td>0.0</td>\n",
       "      <td>-0.396754</td>\n",
       "      <td>0.0</td>\n",
       "      <td>-1.760689</td>\n",
       "      <td>1.622849</td>\n",
       "    </tr>\n",
       "    <tr>\n",
       "      <th>66</th>\n",
       "      <td>14.0</td>\n",
       "      <td>500.0</td>\n",
       "      <td>-0.384054</td>\n",
       "      <td>0.0</td>\n",
       "      <td>0.240737</td>\n",
       "      <td>0.177188</td>\n",
       "    </tr>\n",
       "    <tr>\n",
       "      <th>110</th>\n",
       "      <td>23.0</td>\n",
       "      <td>0.0</td>\n",
       "      <td>0.901591</td>\n",
       "      <td>1.0</td>\n",
       "      <td>0.602319</td>\n",
       "      <td>0.417302</td>\n",
       "    </tr>\n",
       "    <tr>\n",
       "      <th>400</th>\n",
       "      <td>81.0</td>\n",
       "      <td>0.0</td>\n",
       "      <td>-0.222328</td>\n",
       "      <td>0.0</td>\n",
       "      <td>0.366332</td>\n",
       "      <td>-0.701344</td>\n",
       "    </tr>\n",
       "    <tr>\n",
       "      <th>...</th>\n",
       "      <td>...</td>\n",
       "      <td>...</td>\n",
       "      <td>...</td>\n",
       "      <td>...</td>\n",
       "      <td>...</td>\n",
       "      <td>...</td>\n",
       "    </tr>\n",
       "    <tr>\n",
       "      <th>230</th>\n",
       "      <td>47.0</td>\n",
       "      <td>0.0</td>\n",
       "      <td>0.190915</td>\n",
       "      <td>0.0</td>\n",
       "      <td>1.616950</td>\n",
       "      <td>-0.135977</td>\n",
       "    </tr>\n",
       "    <tr>\n",
       "      <th>16</th>\n",
       "      <td>4.0</td>\n",
       "      <td>500.0</td>\n",
       "      <td>-1.072969</td>\n",
       "      <td>0.0</td>\n",
       "      <td>-0.287308</td>\n",
       "      <td>1.232253</td>\n",
       "    </tr>\n",
       "    <tr>\n",
       "      <th>74</th>\n",
       "      <td>15.0</td>\n",
       "      <td>2000.0</td>\n",
       "      <td>1.133769</td>\n",
       "      <td>0.0</td>\n",
       "      <td>0.280665</td>\n",
       "      <td>-1.116470</td>\n",
       "    </tr>\n",
       "    <tr>\n",
       "      <th>176</th>\n",
       "      <td>36.0</td>\n",
       "      <td>500.0</td>\n",
       "      <td>-0.012665</td>\n",
       "      <td>1.0</td>\n",
       "      <td>1.956079</td>\n",
       "      <td>-0.599805</td>\n",
       "    </tr>\n",
       "    <tr>\n",
       "      <th>338</th>\n",
       "      <td>68.0</td>\n",
       "      <td>1500.0</td>\n",
       "      <td>1.519817</td>\n",
       "      <td>0.0</td>\n",
       "      <td>-0.310985</td>\n",
       "      <td>1.278528</td>\n",
       "    </tr>\n",
       "  </tbody>\n",
       "</table>\n",
       "<p>375 rows × 6 columns</p>\n",
       "</div>"
      ],
      "text/plain": [
       "       ID       t        X1   X2        X3        X4\n",
       "277  56.0  1000.0  0.586623  0.0 -0.203394  1.155288\n",
       "155  32.0     0.0 -0.396754  0.0 -1.760689  1.622849\n",
       "66   14.0   500.0 -0.384054  0.0  0.240737  0.177188\n",
       "110  23.0     0.0  0.901591  1.0  0.602319  0.417302\n",
       "400  81.0     0.0 -0.222328  0.0  0.366332 -0.701344\n",
       "..    ...     ...       ...  ...       ...       ...\n",
       "230  47.0     0.0  0.190915  0.0  1.616950 -0.135977\n",
       "16    4.0   500.0 -1.072969  0.0 -0.287308  1.232253\n",
       "74   15.0  2000.0  1.133769  0.0  0.280665 -1.116470\n",
       "176  36.0   500.0 -0.012665  1.0  1.956079 -0.599805\n",
       "338  68.0  1500.0  1.519817  0.0 -0.310985  1.278528\n",
       "\n",
       "[375 rows x 6 columns]"
      ]
     },
     "execution_count": 38,
     "metadata": {},
     "output_type": "execute_result"
    }
   ],
   "source": [
    "x_train"
   ]
  },
  {
   "cell_type": "code",
   "execution_count": 39,
   "metadata": {},
   "outputs": [],
   "source": [
    "delay_scaler = MinMaxScaler()\n",
    "age_scaler = MinMaxScaler()\n",
    "educ_scaler = MinMaxScaler()\n",
    "mmse_scaler = MinMaxScaler()\n",
    "etiv_scaler = MinMaxScaler()\n",
    "\n",
    "delay_scaler.fit(x_train[\"X1\"].to_numpy().reshape(-1,1))\n",
    "age_scaler.fit(x_train[\"X2\"].to_numpy().reshape(-1,1))\n",
    "educ_scaler.fit(x_train[\"X3\"].to_numpy().reshape(-1,1))\n",
    "mmse_scaler.fit(x_train[\"X4\"].to_numpy().reshape(-1,1))\n",
    "\n",
    "x_train[\"X1\"] = delay_scaler.transform(x_train[\"X1\"].to_numpy().reshape(-1,1))\n",
    "x_train[\"X2\"] = age_scaler.transform(x_train[\"X2\"].to_numpy().reshape(-1,1))\n",
    "x_train[\"X3\"] = educ_scaler.transform(x_train[\"X3\"].to_numpy().reshape(-1,1))\n",
    "x_train[\"X4\"] = mmse_scaler.transform(x_train[\"X4\"].to_numpy().reshape(-1,1))\n",
    "\n",
    "x_test[\"X1\"] = delay_scaler.transform(x_test[\"X1\"].to_numpy().reshape(-1,1))\n",
    "x_test[\"X2\"] = age_scaler.transform(x_test[\"X2\"].to_numpy().reshape(-1,1))\n",
    "x_test[\"X3\"] = educ_scaler.transform(x_test[\"X3\"].to_numpy().reshape(-1,1))\n",
    "x_test[\"X4\"] = mmse_scaler.transform(x_test[\"X4\"].to_numpy().reshape(-1,1))\n"
   ]
  },
  {
   "cell_type": "code",
   "execution_count": 40,
   "metadata": {},
   "outputs": [],
   "source": [
    "X_test_final = x_test.drop([\"ID\",\"t\"], axis = 1)\n",
    "X_train_final = x_train.drop([\"ID\",\"t\"], axis = 1)"
   ]
  },
  {
   "cell_type": "code",
   "execution_count": 43,
   "metadata": {},
   "outputs": [
    {
     "data": {
      "text/plain": [
       "(375, 4)"
      ]
     },
     "execution_count": 43,
     "metadata": {},
     "output_type": "execute_result"
    }
   ],
   "source": [
    "X_train_final.shape"
   ]
  },
  {
   "cell_type": "code",
   "execution_count": 45,
   "metadata": {},
   "outputs": [],
   "source": [
    "rows_n = 5\n",
    "X_train_super_final = np.reshape(X_train_final.to_numpy(),(X_train_final.shape[0]//5,X_train_final.shape[1],rows_n))\n",
    "X_train_super_final = np.reshape(X_train_final.to_numpy(),(X_train_final.shape[0]//5,X_train_final.shape[1],rows_n))\n",
    "X_test_super_final = np.reshape(X_test_final.to_numpy(),(X_test_final.shape[0]//5,X_train_final.shape[1],rows_n))"
   ]
  },
  {
   "cell_type": "code",
   "execution_count": 46,
   "metadata": {},
   "outputs": [],
   "source": [
    "def build_lstm_rnn():\n",
    "    lstm_rnn = tf.keras.Sequential()\n",
    "    lstm_rnn.add(tf.keras.layers.LSTM(100, return_sequences = True,input_shape = (X_train_super_final.shape[1],X_train_super_final.shape[2]) ) )\n",
    "    lstm_rnn.add(tf.keras.layers.LSTM(50,return_sequences = False))\n",
    "    lstm_rnn.add(tf.keras.layers.Dense(1,activation = \"sigmoid\"))\n",
    "    lstm_rnn.compile(loss = \"binary_crossentropy\", optimizer = \"adam\", metrics = [\"accuracy\"])\n",
    "    return lstm_rnn"
   ]
  },
  {
   "cell_type": "code",
   "execution_count": 55,
   "metadata": {},
   "outputs": [],
   "source": [
    "y_train_super_final = np.reshape(y_train.to_numpy(),(X_train_final.shape[0]//5,rows_n))"
   ]
  },
  {
   "cell_type": "code",
   "execution_count": 58,
   "metadata": {},
   "outputs": [
    {
     "data": {
      "text/plain": [
       "array([[0., 0., 0., 0., 1.],\n",
       "       [0., 0., 0., 0., 0.],\n",
       "       [0., 0., 0., 0., 0.],\n",
       "       [0., 1., 0., 0., 0.],\n",
       "       [0., 0., 0., 1., 0.],\n",
       "       [0., 0., 1., 0., 0.],\n",
       "       [0., 0., 0., 0., 0.],\n",
       "       [1., 0., 0., 0., 0.],\n",
       "       [0., 0., 0., 0., 0.],\n",
       "       [0., 0., 0., 0., 0.],\n",
       "       [0., 0., 0., 0., 0.],\n",
       "       [0., 0., 0., 0., 0.],\n",
       "       [0., 1., 0., 0., 0.],\n",
       "       [0., 0., 0., 0., 0.],\n",
       "       [0., 0., 1., 0., 0.],\n",
       "       [0., 0., 0., 1., 0.],\n",
       "       [0., 0., 0., 0., 0.],\n",
       "       [0., 0., 0., 0., 0.],\n",
       "       [0., 0., 0., 0., 0.],\n",
       "       [0., 0., 0., 0., 0.],\n",
       "       [0., 0., 0., 0., 0.],\n",
       "       [0., 1., 0., 0., 0.],\n",
       "       [0., 0., 0., 0., 0.],\n",
       "       [0., 0., 0., 0., 0.],\n",
       "       [0., 0., 0., 0., 0.],\n",
       "       [0., 1., 0., 0., 0.],\n",
       "       [0., 0., 0., 0., 0.],\n",
       "       [0., 0., 0., 0., 0.],\n",
       "       [0., 0., 0., 0., 0.],\n",
       "       [0., 0., 0., 1., 0.],\n",
       "       [1., 0., 0., 0., 0.],\n",
       "       [0., 0., 1., 0., 0.],\n",
       "       [0., 0., 1., 0., 0.],\n",
       "       [0., 0., 0., 0., 0.],\n",
       "       [0., 0., 0., 0., 0.],\n",
       "       [0., 0., 0., 0., 0.],\n",
       "       [0., 0., 0., 0., 1.],\n",
       "       [0., 0., 0., 0., 0.],\n",
       "       [1., 0., 0., 1., 0.],\n",
       "       [0., 0., 0., 0., 1.],\n",
       "       [0., 0., 0., 0., 0.],\n",
       "       [0., 0., 0., 0., 0.],\n",
       "       [0., 0., 0., 0., 0.],\n",
       "       [1., 0., 0., 0., 0.],\n",
       "       [0., 0., 0., 0., 0.],\n",
       "       [0., 0., 0., 0., 0.],\n",
       "       [0., 0., 0., 0., 0.],\n",
       "       [0., 0., 0., 0., 0.],\n",
       "       [0., 0., 0., 0., 0.],\n",
       "       [0., 0., 0., 0., 0.],\n",
       "       [0., 0., 0., 0., 0.],\n",
       "       [0., 0., 0., 0., 1.],\n",
       "       [0., 0., 0., 0., 0.],\n",
       "       [0., 0., 0., 0., 0.],\n",
       "       [0., 0., 0., 1., 0.],\n",
       "       [0., 0., 0., 0., 0.],\n",
       "       [0., 0., 0., 0., 0.],\n",
       "       [1., 0., 0., 0., 0.],\n",
       "       [0., 0., 0., 0., 0.],\n",
       "       [1., 0., 0., 0., 0.],\n",
       "       [1., 0., 0., 0., 0.],\n",
       "       [1., 1., 0., 0., 0.],\n",
       "       [0., 0., 0., 0., 0.],\n",
       "       [0., 0., 0., 0., 0.],\n",
       "       [0., 0., 0., 0., 0.],\n",
       "       [0., 0., 0., 0., 0.],\n",
       "       [0., 0., 0., 0., 1.],\n",
       "       [0., 0., 0., 0., 0.],\n",
       "       [0., 0., 0., 0., 1.],\n",
       "       [1., 0., 0., 0., 0.],\n",
       "       [0., 0., 0., 0., 0.],\n",
       "       [0., 0., 0., 0., 1.],\n",
       "       [0., 0., 0., 1., 0.],\n",
       "       [0., 0., 0., 0., 0.],\n",
       "       [0., 0., 0., 0., 0.]])"
      ]
     },
     "execution_count": 58,
     "metadata": {},
     "output_type": "execute_result"
    }
   ],
   "source": [
    "y_train_super_final"
   ]
  },
  {
   "cell_type": "code",
   "execution_count": 89,
   "metadata": {},
   "outputs": [
    {
     "name": "stdout",
     "output_type": "stream",
     "text": [
      "Epoch 1/10\n"
     ]
    },
    {
     "name": "stderr",
     "output_type": "stream",
     "text": [
      "C:\\Users\\LENOVO\\AppData\\Local\\Temp\\ipykernel_124\\3941344263.py:2: FutureWarning: The behavior of `series[i:j]` with an integer-dtype index is deprecated. In a future version, this will be treated as *label-based* indexing, consistent with e.g. `series[i]` lookups. To retain the old behavior, use `series.iloc[i:j]`. To get the future behavior, use `series.loc[i:j]`.\n",
      "  lstm_rnn.fit(X_train_super_final, y_train[0:75], epochs = 10)\n"
     ]
    },
    {
     "name": "stdout",
     "output_type": "stream",
     "text": [
      "3/3 [==============================] - 6s 13ms/step - loss: 0.6772 - accuracy: 0.8933\n",
      "Epoch 2/10\n",
      "3/3 [==============================] - 0s 15ms/step - loss: 0.6345 - accuracy: 0.9067\n",
      "Epoch 3/10\n",
      "3/3 [==============================] - 0s 17ms/step - loss: 0.5849 - accuracy: 0.9067\n",
      "Epoch 4/10\n",
      "3/3 [==============================] - 0s 20ms/step - loss: 0.5364 - accuracy: 0.9067\n",
      "Epoch 5/10\n",
      "3/3 [==============================] - 0s 21ms/step - loss: 0.4714 - accuracy: 0.9067\n",
      "Epoch 6/10\n",
      "3/3 [==============================] - 0s 11ms/step - loss: 0.4038 - accuracy: 0.9067\n",
      "Epoch 7/10\n",
      "3/3 [==============================] - 0s 12ms/step - loss: 0.3408 - accuracy: 0.9067\n",
      "Epoch 8/10\n",
      "3/3 [==============================] - 0s 16ms/step - loss: 0.3235 - accuracy: 0.9067\n",
      "Epoch 9/10\n",
      "3/3 [==============================] - 0s 14ms/step - loss: 0.3265 - accuracy: 0.9067\n",
      "Epoch 10/10\n",
      "3/3 [==============================] - 0s 12ms/step - loss: 0.3387 - accuracy: 0.9067\n",
      "1/1 [==============================] - 1s 1s/step\n",
      "              precision    recall  f1-score   support\n",
      "\n",
      "         0.0       0.84      1.00      0.91        21\n",
      "         1.0       0.00      0.00      0.00         4\n",
      "\n",
      "    accuracy                           0.84        25\n",
      "   macro avg       0.42      0.50      0.46        25\n",
      "weighted avg       0.71      0.84      0.77        25\n",
      "\n"
     ]
    },
    {
     "name": "stderr",
     "output_type": "stream",
     "text": [
      "C:\\Users\\LENOVO\\AppData\\Local\\Temp\\ipykernel_124\\3941344263.py:5: FutureWarning: The behavior of `series[i:j]` with an integer-dtype index is deprecated. In a future version, this will be treated as *label-based* indexing, consistent with e.g. `series[i]` lookups. To retain the old behavior, use `series.iloc[i:j]`. To get the future behavior, use `series.loc[i:j]`.\n",
      "  print(classification_report(y_test[0:25],lstm_rnn_prediction))\n",
      "c:\\Users\\LENOVO\\AppData\\Local\\Programs\\Python\\Python310\\lib\\site-packages\\sklearn\\metrics\\_classification.py:1344: UndefinedMetricWarning: Precision and F-score are ill-defined and being set to 0.0 in labels with no predicted samples. Use `zero_division` parameter to control this behavior.\n",
      "  _warn_prf(average, modifier, msg_start, len(result))\n",
      "c:\\Users\\LENOVO\\AppData\\Local\\Programs\\Python\\Python310\\lib\\site-packages\\sklearn\\metrics\\_classification.py:1344: UndefinedMetricWarning: Precision and F-score are ill-defined and being set to 0.0 in labels with no predicted samples. Use `zero_division` parameter to control this behavior.\n",
      "  _warn_prf(average, modifier, msg_start, len(result))\n",
      "c:\\Users\\LENOVO\\AppData\\Local\\Programs\\Python\\Python310\\lib\\site-packages\\sklearn\\metrics\\_classification.py:1344: UndefinedMetricWarning: Precision and F-score are ill-defined and being set to 0.0 in labels with no predicted samples. Use `zero_division` parameter to control this behavior.\n",
      "  _warn_prf(average, modifier, msg_start, len(result))\n",
      "C:\\Users\\LENOVO\\AppData\\Local\\Temp\\ipykernel_124\\3941344263.py:6: FutureWarning: The behavior of `series[i:j]` with an integer-dtype index is deprecated. In a future version, this will be treated as *label-based* indexing, consistent with e.g. `series[i]` lookups. To retain the old behavior, use `series.iloc[i:j]`. To get the future behavior, use `series.loc[i:j]`.\n",
      "  lstm_rnn_conf = confusion_matrix(y_test[0:25],lstm_rnn_prediction)\n"
     ]
    },
    {
     "data": {
      "text/plain": [
       "<sklearn.metrics._plot.confusion_matrix.ConfusionMatrixDisplay at 0x2d268ec6500>"
      ]
     },
     "execution_count": 89,
     "metadata": {},
     "output_type": "execute_result"
    },
    {
     "data": {
      "image/png": "[encoded data removed]",
      "text/plain": [
       "<Figure size 640x480 with 2 Axes>"
      ]
     },
     "metadata": {},
     "output_type": "display_data"
    }
   ],
   "source": [
    "lstm_rnn = build_lstm_rnn()\n",
    "lstm_rnn.fit(X_train_super_final, y_train[0:75], epochs = 10)\n",
    "not_final_lstm_rnn_prediction = lstm_rnn.predict(X_test_super_final)\n",
    "lstm_rnn_prediction = np.where(not_final_lstm_rnn_prediction > 0.5, 1, 0)\n",
    "print(classification_report(y_test[0:25],lstm_rnn_prediction))\n",
    "lstm_rnn_conf = confusion_matrix(y_test[0:25],lstm_rnn_prediction)\n",
    "lstm_rnn_plot_conf = ConfusionMatrixDisplay(lstm_rnn_conf)\n",
    "lstm_rnn_plot_conf.plot()"
   ]
  },
  {
   "cell_type": "code",
   "execution_count": 75,
   "metadata": {},
   "outputs": [],
   "source": [
    "def build_gru_rnn():\n",
    "    gru_rnn = tf.keras.Sequential()\n",
    "    gru_rnn.add(tf.keras.layers.GRU(100, return_sequences = True,input_shape = (X_train_super_final.shape[1],X_train_super_final.shape[2])) )\n",
    "    gru_rnn.add(tf.keras.layers.GRU(50,return_sequences = False))\n",
    "    gru_rnn.add(tf.keras.layers.Dense(1,activation = \"sigmoid\"))\n",
    "    gru_rnn.compile(loss = \"binary_crossentropy\", optimizer = \"adam\", metrics = [\"accuracy\"])\n",
    "    return gru_rnn"
   ]
  },
  {
   "cell_type": "code",
   "execution_count": 88,
   "metadata": {},
   "outputs": [
    {
     "name": "stdout",
     "output_type": "stream",
     "text": [
      "Epoch 1/100\n"
     ]
    },
    {
     "name": "stderr",
     "output_type": "stream",
     "text": [
      "C:\\Users\\LENOVO\\AppData\\Local\\Temp\\ipykernel_124\\3630052749.py:2: FutureWarning: The behavior of `series[i:j]` with an integer-dtype index is deprecated. In a future version, this will be treated as *label-based* indexing, consistent with e.g. `series[i]` lookups. To retain the old behavior, use `series.iloc[i:j]`. To get the future behavior, use `series.loc[i:j]`.\n",
      "  gru_rnn.fit(X_train_super_final, y_train[0:75], epochs = 100)\n"
     ]
    },
    {
     "name": "stdout",
     "output_type": "stream",
     "text": [
      "3/3 [==============================] - 6s 10ms/step - loss: 0.6707 - accuracy: 0.6267\n",
      "Epoch 2/100\n",
      "3/3 [==============================] - 0s 14ms/step - loss: 0.5558 - accuracy: 0.9067\n",
      "Epoch 3/100\n",
      "3/3 [==============================] - 0s 11ms/step - loss: 0.4486 - accuracy: 0.9067\n",
      "Epoch 4/100\n",
      "3/3 [==============================] - 0s 11ms/step - loss: 0.3768 - accuracy: 0.9067\n",
      "Epoch 5/100\n",
      "3/3 [==============================] - 0s 14ms/step - loss: 0.3278 - accuracy: 0.9067\n",
      "Epoch 6/100\n",
      "3/3 [==============================] - 0s 18ms/step - loss: 0.3175 - accuracy: 0.9067\n",
      "Epoch 7/100\n",
      "3/3 [==============================] - 0s 17ms/step - loss: 0.3248 - accuracy: 0.9067\n",
      "Epoch 8/100\n",
      "3/3 [==============================] - 0s 15ms/step - loss: 0.3431 - accuracy: 0.9067\n",
      "Epoch 9/100\n",
      "3/3 [==============================] - 0s 13ms/step - loss: 0.3416 - accuracy: 0.9067\n",
      "Epoch 10/100\n",
      "3/3 [==============================] - 0s 17ms/step - loss: 0.3312 - accuracy: 0.9067\n",
      "Epoch 11/100\n",
      "3/3 [==============================] - 0s 13ms/step - loss: 0.3250 - accuracy: 0.9067\n",
      "Epoch 12/100\n",
      "3/3 [==============================] - 0s 11ms/step - loss: 0.3149 - accuracy: 0.9067\n",
      "Epoch 13/100\n",
      "3/3 [==============================] - 0s 11ms/step - loss: 0.3167 - accuracy: 0.9067\n",
      "Epoch 14/100\n",
      "3/3 [==============================] - 0s 19ms/step - loss: 0.3153 - accuracy: 0.9067\n",
      "Epoch 15/100\n",
      "3/3 [==============================] - 0s 17ms/step - loss: 0.3166 - accuracy: 0.9067\n",
      "Epoch 16/100\n",
      "3/3 [==============================] - 0s 26ms/step - loss: 0.3175 - accuracy: 0.9067\n",
      "Epoch 17/100\n",
      "3/3 [==============================] - 0s 14ms/step - loss: 0.3150 - accuracy: 0.9067\n",
      "Epoch 18/100\n",
      "3/3 [==============================] - 0s 13ms/step - loss: 0.3126 - accuracy: 0.9067\n",
      "Epoch 19/100\n",
      "3/3 [==============================] - 0s 19ms/step - loss: 0.3146 - accuracy: 0.9067\n",
      "Epoch 20/100\n",
      "3/3 [==============================] - 0s 17ms/step - loss: 0.3134 - accuracy: 0.9067\n",
      "Epoch 21/100\n",
      "3/3 [==============================] - 0s 18ms/step - loss: 0.3138 - accuracy: 0.9067\n",
      "Epoch 22/100\n",
      "3/3 [==============================] - 0s 23ms/step - loss: 0.3130 - accuracy: 0.9067\n",
      "Epoch 23/100\n",
      "3/3 [==============================] - 0s 22ms/step - loss: 0.3128 - accuracy: 0.9067\n",
      "Epoch 24/100\n",
      "3/3 [==============================] - 0s 18ms/step - loss: 0.3121 - accuracy: 0.9067\n",
      "Epoch 25/100\n",
      "3/3 [==============================] - 0s 18ms/step - loss: 0.3119 - accuracy: 0.9067\n",
      "Epoch 26/100\n",
      "3/3 [==============================] - 0s 18ms/step - loss: 0.3120 - accuracy: 0.9067\n",
      "Epoch 27/100\n",
      "3/3 [==============================] - 0s 25ms/step - loss: 0.3115 - accuracy: 0.9067\n",
      "Epoch 28/100\n",
      "3/3 [==============================] - 0s 45ms/step - loss: 0.3146 - accuracy: 0.9067\n",
      "Epoch 29/100\n",
      "3/3 [==============================] - 0s 26ms/step - loss: 0.3149 - accuracy: 0.9067\n",
      "Epoch 30/100\n",
      "3/3 [==============================] - 0s 42ms/step - loss: 0.3136 - accuracy: 0.9067\n",
      "Epoch 31/100\n",
      "3/3 [==============================] - 0s 13ms/step - loss: 0.3109 - accuracy: 0.9067\n",
      "Epoch 32/100\n",
      "3/3 [==============================] - 0s 41ms/step - loss: 0.3126 - accuracy: 0.9067\n",
      "Epoch 33/100\n",
      "3/3 [==============================] - 0s 12ms/step - loss: 0.3108 - accuracy: 0.9067\n",
      "Epoch 34/100\n",
      "3/3 [==============================] - 0s 40ms/step - loss: 0.3113 - accuracy: 0.9067\n",
      "Epoch 35/100\n",
      "3/3 [==============================] - 0s 13ms/step - loss: 0.3132 - accuracy: 0.9067\n",
      "Epoch 36/100\n",
      "3/3 [==============================] - 0s 13ms/step - loss: 0.3128 - accuracy: 0.9067\n",
      "Epoch 37/100\n",
      "3/3 [==============================] - 0s 22ms/step - loss: 0.3123 - accuracy: 0.9067\n",
      "Epoch 38/100\n",
      "3/3 [==============================] - 0s 11ms/step - loss: 0.3091 - accuracy: 0.9067\n",
      "Epoch 39/100\n",
      "3/3 [==============================] - 0s 12ms/step - loss: 0.3088 - accuracy: 0.9067\n",
      "Epoch 40/100\n",
      "3/3 [==============================] - 0s 20ms/step - loss: 0.3085 - accuracy: 0.9067\n",
      "Epoch 41/100\n",
      "3/3 [==============================] - 0s 16ms/step - loss: 0.3075 - accuracy: 0.9067\n",
      "Epoch 42/100\n",
      "3/3 [==============================] - 0s 10ms/step - loss: 0.3076 - accuracy: 0.9067\n",
      "Epoch 43/100\n",
      "3/3 [==============================] - 0s 10ms/step - loss: 0.3069 - accuracy: 0.9067\n",
      "Epoch 44/100\n",
      "3/3 [==============================] - 0s 16ms/step - loss: 0.3071 - accuracy: 0.9067\n",
      "Epoch 45/100\n",
      "3/3 [==============================] - 0s 14ms/step - loss: 0.3077 - accuracy: 0.9067\n",
      "Epoch 46/100\n",
      "3/3 [==============================] - 0s 12ms/step - loss: 0.3066 - accuracy: 0.9067\n",
      "Epoch 47/100\n",
      "3/3 [==============================] - 0s 10ms/step - loss: 0.3051 - accuracy: 0.9067\n",
      "Epoch 48/100\n",
      "3/3 [==============================] - 0s 10ms/step - loss: 0.3053 - accuracy: 0.9067\n",
      "Epoch 49/100\n",
      "3/3 [==============================] - 0s 10ms/step - loss: 0.3061 - accuracy: 0.9067\n",
      "Epoch 50/100\n",
      "3/3 [==============================] - 0s 19ms/step - loss: 0.3069 - accuracy: 0.9067\n",
      "Epoch 51/100\n",
      "3/3 [==============================] - 0s 19ms/step - loss: 0.3064 - accuracy: 0.9067\n",
      "Epoch 52/100\n",
      "3/3 [==============================] - 0s 15ms/step - loss: 0.3047 - accuracy: 0.9067\n",
      "Epoch 53/100\n",
      "3/3 [==============================] - 0s 13ms/step - loss: 0.3060 - accuracy: 0.9067\n",
      "Epoch 54/100\n",
      "3/3 [==============================] - 0s 16ms/step - loss: 0.3043 - accuracy: 0.9067\n",
      "Epoch 55/100\n",
      "3/3 [==============================] - 0s 16ms/step - loss: 0.3041 - accuracy: 0.9067\n",
      "Epoch 56/100\n",
      "3/3 [==============================] - 0s 15ms/step - loss: 0.3030 - accuracy: 0.9067\n",
      "Epoch 57/100\n",
      "3/3 [==============================] - 0s 13ms/step - loss: 0.3029 - accuracy: 0.9067\n",
      "Epoch 58/100\n",
      "3/3 [==============================] - 0s 19ms/step - loss: 0.3015 - accuracy: 0.9067\n",
      "Epoch 59/100\n",
      "3/3 [==============================] - 0s 17ms/step - loss: 0.3030 - accuracy: 0.9067\n",
      "Epoch 60/100\n",
      "3/3 [==============================] - 0s 17ms/step - loss: 0.3029 - accuracy: 0.9067\n",
      "Epoch 61/100\n",
      "3/3 [==============================] - 0s 14ms/step - loss: 0.3030 - accuracy: 0.9067\n",
      "Epoch 62/100\n",
      "3/3 [==============================] - 0s 15ms/step - loss: 0.3022 - accuracy: 0.9067\n",
      "Epoch 63/100\n",
      "3/3 [==============================] - 0s 12ms/step - loss: 0.3009 - accuracy: 0.9067\n",
      "Epoch 64/100\n",
      "3/3 [==============================] - 0s 12ms/step - loss: 0.2980 - accuracy: 0.9067\n",
      "Epoch 65/100\n",
      "3/3 [==============================] - 0s 18ms/step - loss: 0.2991 - accuracy: 0.9067\n",
      "Epoch 66/100\n",
      "3/3 [==============================] - 0s 13ms/step - loss: 0.3027 - accuracy: 0.9067\n",
      "Epoch 67/100\n",
      "3/3 [==============================] - 0s 19ms/step - loss: 0.3047 - accuracy: 0.9067\n",
      "Epoch 68/100\n",
      "3/3 [==============================] - 0s 17ms/step - loss: 0.3048 - accuracy: 0.9067\n",
      "Epoch 69/100\n",
      "3/3 [==============================] - 0s 15ms/step - loss: 0.2981 - accuracy: 0.9067\n",
      "Epoch 70/100\n",
      "3/3 [==============================] - 0s 15ms/step - loss: 0.2975 - accuracy: 0.9067\n",
      "Epoch 71/100\n",
      "3/3 [==============================] - 0s 13ms/step - loss: 0.2979 - accuracy: 0.9067\n",
      "Epoch 72/100\n",
      "3/3 [==============================] - 0s 13ms/step - loss: 0.2940 - accuracy: 0.9067\n",
      "Epoch 73/100\n",
      "3/3 [==============================] - 0s 12ms/step - loss: 0.2934 - accuracy: 0.9067\n",
      "Epoch 74/100\n",
      "3/3 [==============================] - 0s 14ms/step - loss: 0.2955 - accuracy: 0.9067\n",
      "Epoch 75/100\n",
      "3/3 [==============================] - 0s 12ms/step - loss: 0.3021 - accuracy: 0.9067\n",
      "Epoch 76/100\n",
      "3/3 [==============================] - 0s 16ms/step - loss: 0.3004 - accuracy: 0.9067\n",
      "Epoch 77/100\n",
      "3/3 [==============================] - 0s 40ms/step - loss: 0.2976 - accuracy: 0.9067\n",
      "Epoch 78/100\n",
      "3/3 [==============================] - 0s 14ms/step - loss: 0.2926 - accuracy: 0.9067\n",
      "Epoch 79/100\n",
      "3/3 [==============================] - 0s 45ms/step - loss: 0.2921 - accuracy: 0.9067\n",
      "Epoch 80/100\n",
      "3/3 [==============================] - 0s 12ms/step - loss: 0.3009 - accuracy: 0.9067\n",
      "Epoch 81/100\n",
      "3/3 [==============================] - 0s 24ms/step - loss: 0.2976 - accuracy: 0.9067\n",
      "Epoch 82/100\n",
      "3/3 [==============================] - 0s 15ms/step - loss: 0.2886 - accuracy: 0.9067\n",
      "Epoch 83/100\n",
      "3/3 [==============================] - 0s 25ms/step - loss: 0.2898 - accuracy: 0.9067\n",
      "Epoch 84/100\n",
      "3/3 [==============================] - 0s 20ms/step - loss: 0.2884 - accuracy: 0.9067\n",
      "Epoch 85/100\n",
      "3/3 [==============================] - 0s 34ms/step - loss: 0.2866 - accuracy: 0.9067\n",
      "Epoch 86/100\n",
      "3/3 [==============================] - 0s 18ms/step - loss: 0.2835 - accuracy: 0.9067\n",
      "Epoch 87/100\n",
      "3/3 [==============================] - 0s 15ms/step - loss: 0.2834 - accuracy: 0.9067\n",
      "Epoch 88/100\n",
      "3/3 [==============================] - 0s 18ms/step - loss: 0.2848 - accuracy: 0.9067\n",
      "Epoch 89/100\n",
      "3/3 [==============================] - 0s 18ms/step - loss: 0.2807 - accuracy: 0.9067\n",
      "Epoch 90/100\n",
      "3/3 [==============================] - 0s 15ms/step - loss: 0.2780 - accuracy: 0.9067\n",
      "Epoch 91/100\n",
      "3/3 [==============================] - 0s 24ms/step - loss: 0.2835 - accuracy: 0.9067\n",
      "Epoch 92/100\n",
      "3/3 [==============================] - 0s 20ms/step - loss: 0.2866 - accuracy: 0.9067\n",
      "Epoch 93/100\n",
      "3/3 [==============================] - 0s 13ms/step - loss: 0.2845 - accuracy: 0.9067\n",
      "Epoch 94/100\n",
      "3/3 [==============================] - 0s 18ms/step - loss: 0.2771 - accuracy: 0.9067\n",
      "Epoch 95/100\n",
      "3/3 [==============================] - 0s 20ms/step - loss: 0.2832 - accuracy: 0.9067\n",
      "Epoch 96/100\n",
      "3/3 [==============================] - 0s 18ms/step - loss: 0.2731 - accuracy: 0.9067\n",
      "Epoch 97/100\n",
      "3/3 [==============================] - 0s 18ms/step - loss: 0.2689 - accuracy: 0.9067\n",
      "Epoch 98/100\n",
      "3/3 [==============================] - 0s 19ms/step - loss: 0.2679 - accuracy: 0.9067\n",
      "Epoch 99/100\n",
      "3/3 [==============================] - 0s 18ms/step - loss: 0.2655 - accuracy: 0.9067\n",
      "Epoch 100/100\n",
      "3/3 [==============================] - 0s 17ms/step - loss: 0.2645 - accuracy: 0.9067\n",
      "1/1 [==============================] - 1s 961ms/step\n"
     ]
    },
    {
     "name": "stderr",
     "output_type": "stream",
     "text": [
      "C:\\Users\\LENOVO\\AppData\\Local\\Temp\\ipykernel_124\\3630052749.py:5: FutureWarning: The behavior of `series[i:j]` with an integer-dtype index is deprecated. In a future version, this will be treated as *label-based* indexing, consistent with e.g. `series[i]` lookups. To retain the old behavior, use `series.iloc[i:j]`. To get the future behavior, use `series.loc[i:j]`.\n",
      "  gru_rnn_conf = confusion_matrix(y_train[0:25],gru_rnn_prediction)\n"
     ]
    },
    {
     "data": {
      "text/plain": [
       "<sklearn.metrics._plot.confusion_matrix.ConfusionMatrixDisplay at 0x2d25cc2eaa0>"
      ]
     },
     "execution_count": 88,
     "metadata": {},
     "output_type": "execute_result"
    },
    {
     "data": {
      "image/png": "[encoded data removed]",
      "text/plain": [
       "<Figure size 640x480 with 2 Axes>"
      ]
     },
     "metadata": {},
     "output_type": "display_data"
    }
   ],
   "source": [
    "gru_rnn = build_gru_rnn()\n",
    "gru_rnn.fit(X_train_super_final, y_train[0:75], epochs = 100)\n",
    "not_final_gru_rnn_prediction = gru_rnn.predict(X_test_super_final)\n",
    "gru_rnn_prediction = np.where(not_final_gru_rnn_prediction > not_final_gru_rnn_prediction.mean(), 1, 0)\n",
    "gru_rnn_conf = confusion_matrix(y_train[0:25],gru_rnn_prediction)\n",
    "gru_rnn_plot_conf = ConfusionMatrixDisplay(gru_rnn_conf)\n",
    "gru_rnn_plot_conf.plot()"
   ]
  },
  {
   "cell_type": "code",
   "execution_count": 5,
   "metadata": {},
   "outputs": [],
   "source": [
    "def build_gru_rnn():\n",
    "    gru_rnn = tf.keras.Sequential()\n",
    "    gru_rnn.add(tf.keras.layers.GRU(100, return_sequences = True,input_shape = (X_train_super_final.shape[1],X_train_super_final.shape[2])) )\n",
    "    gru_rnn.add(tf.keras.layers.GRU(50,return_sequences = False))\n",
    "    gru_rnn.add(tf.keras.layers.Dense(1,activation = \"sigmoid\"))\n",
    "    gru_rnn.compile(loss = \"binary_crossentropy\", optimizer = \"adam\", metrics = [\"accuracy\"])\n",
    "    return gru_rnn"
   ]
  },
  {
   "cell_type": "code",
   "execution_count": null,
   "metadata": {},
   "outputs": [],
   "source": [
    "gru_rnn = build_gru_rnn()\n",
    "gru_rnn.fit(X_train_super_final, y_train_super_final, epochs = 100)\n",
    "not_final_gru_rnn_prediction = gru_rnn.predict(X_test_super_final)\n",
    "gru_rnn_prediction = np.where(not_final_gru_rnn_prediction > 0.5, 1, 0)\n",
    "print(classification_report(y_test_super_final,gru_rnn_prediction, target_names= [\"Non-Demanted\", \"Demanted\"]))\n",
    "gru_rnn_conf = confusion_matrix(y_test_super_final,gru_rnn_prediction)\n",
    "model_details.append([\"GRU RNN\", round(f1_score(y_test_super_final,gru_rnn_prediction, average = \"weighted\") * 100,4),gru_rnn_conf[1,0]])\n",
    "gru_rnn_plot_conf = ConfusionMatrixDisplay(gru_rnn_conf)\n",
    "gru_rnn_plot_conf.plot()"
   ]
  }
 ],
 "metadata": {
  "kernelspec": {
   "display_name": "Python 3",
   "language": "python",
   "name": "python3"
  },
  "language_info": {
   "codemirror_mode": {
    "name": "ipython",
    "version": 3
   },
   "file_extension": ".py",
   "mimetype": "text/x-python",
   "name": "python",
   "nbconvert_exporter": "python",
   "pygments_lexer": "ipython3",
   "version": "3.10.5"
  },
  "orig_nbformat": 4
 },
 "nbformat": 4,
 "nbformat_minor": 2
}
